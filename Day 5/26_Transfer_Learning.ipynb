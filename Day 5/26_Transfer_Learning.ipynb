{
  "cells": [
    {
      "cell_type": "code",
      "execution_count": 6,
      "metadata": {
        "id": "3j1fSIlz9DKY"
      },
      "outputs": [],
      "source": [
        "import numpy as np\n",
        "import tensorflow as tf\n",
        "import matplotlib.pyplot as plt\n",
        "from keras.models import Model,Sequential\n",
        "from keras.layers import Dense,Flatten\n",
        "from keras.applications import ResNet50\n",
        "from keras.utils import plot_model\n"
      ]
    },
    {
      "cell_type": "code",
      "execution_count": 4,
      "metadata": {
        "colab": {
          "base_uri": "https://localhost:8080/"
        },
        "id": "vCXCBGGU9OJU",
        "outputId": "eb767486-dd4f-40b6-deea-86057c35ff7d"
      },
      "outputs": [
        {
          "name": "stdout",
          "output_type": "stream",
          "text": [
            "Downloading data from https://storage.googleapis.com/tensorflow/keras-applications/resnet/resnet50_weights_tf_dim_ordering_tf_kernels.h5\n",
            "102967424/102967424 [==============================] - 1s 0us/step\n"
          ]
        }
      ],
      "source": [
        "resnet = ResNet50()\n"
      ]
    },
    {
      "cell_type": "code",
      "execution_count": null,
      "metadata": {
        "colab": {
          "base_uri": "https://localhost:8080/",
          "height": 1000
        },
        "collapsed": true,
        "id": "-bKE8IU69fAf",
        "outputId": "0f4b8572-8d37-49be-ead4-7e28c1e541af"
      },
      "outputs": [],
      "source": [
        "plot_model(resnet,show_shapes=True,show_layer_names=True,show_layer_activations=True,show_dtype=True)"
      ]
    },
    {
      "cell_type": "code",
      "execution_count": 8,
      "metadata": {
        "colab": {
          "base_uri": "https://localhost:8080/"
        },
        "id": "9LlPLkOg9sB_",
        "outputId": "85ca559c-0d50-48c1-a162-5b5dc7101a05"
      },
      "outputs": [
        {
          "name": "stdout",
          "output_type": "stream",
          "text": [
            "Downloading data from https://storage.googleapis.com/tensorflow/keras-applications/resnet/resnet50_weights_tf_dim_ordering_tf_kernels_notop.h5\n",
            "94765736/94765736 [==============================] - 1s 0us/step\n"
          ]
        }
      ],
      "source": [
        "resnet50 = ResNet50(include_top=False, weights='imagenet', input_shape=(32,32,3))"
      ]
    },
    {
      "cell_type": "code",
      "execution_count": null,
      "metadata": {
        "colab": {
          "base_uri": "https://localhost:8080/",
          "height": 1000
        },
        "collapsed": true,
        "id": "2wwzebpp-d5C",
        "outputId": "6b75c72c-6156-4531-e9b4-7f271c084f74"
      },
      "outputs": [],
      "source": [
        "plot_model(resnet50, show_shapes=True, show_layer_names=True, show_layer_activations=True, show_dtype=True)"
      ]
    },
    {
      "cell_type": "code",
      "execution_count": 10,
      "metadata": {
        "id": "gKr2hRf1-kiC"
      },
      "outputs": [],
      "source": [
        "from keras.datasets import cifar10"
      ]
    },
    {
      "cell_type": "code",
      "execution_count": 11,
      "metadata": {
        "colab": {
          "base_uri": "https://localhost:8080/"
        },
        "id": "hM1A89kW-5Ui",
        "outputId": "62084949-8069-440a-d726-63641e0e6cc7"
      },
      "outputs": [
        {
          "name": "stdout",
          "output_type": "stream",
          "text": [
            "Downloading data from https://www.cs.toronto.edu/~kriz/cifar-10-python.tar.gz\n",
            "170498071/170498071 [==============================] - 10s 0us/step\n"
          ]
        }
      ],
      "source": [
        "(x_train, y_train), (x_test, y_test) = cifar10.load_data()"
      ]
    },
    {
      "cell_type": "code",
      "execution_count": 12,
      "metadata": {
        "colab": {
          "base_uri": "https://localhost:8080/"
        },
        "id": "8sorKib--9RR",
        "outputId": "9489d38c-1931-4434-a1a1-3f8d3aed3b18"
      },
      "outputs": [
        {
          "data": {
            "text/plain": [
              "(50000, 32, 32, 3)"
            ]
          },
          "execution_count": 12,
          "metadata": {},
          "output_type": "execute_result"
        }
      ],
      "source": [
        "x_train.shape"
      ]
    },
    {
      "cell_type": "code",
      "execution_count": 19,
      "metadata": {
        "id": "Tffk1euQ_4fS"
      },
      "outputs": [],
      "source": [
        "# Flatten output layer of ResNet\n",
        "flattened = Flatten()(resnet50.output)\n",
        "\n",
        "# Flully connected layer 1\n",
        "fc1 = Dense(128, activation='relu', name='AddedDense1')(flattened)\n",
        "\n",
        "# Flully connected layer, output layer\n",
        "fc2 = Dense(10, activation='softmax', name='AddedDense2')(fc1)"
      ]
    },
    {
      "cell_type": "code",
      "execution_count": 20,
      "metadata": {
        "id": "pb-V-1M1-_9h"
      },
      "outputs": [],
      "source": [
        "resnet50.trainable = False"
      ]
    },
    {
      "cell_type": "code",
      "execution_count": 21,
      "metadata": {
        "id": "XECTd0XG_ODS"
      },
      "outputs": [],
      "source": [
        "model = Model(inputs=resnet50.inputs, outputs=fc2)"
      ]
    },
    {
      "cell_type": "code",
      "execution_count": null,
      "metadata": {
        "colab": {
          "base_uri": "https://localhost:8080/",
          "height": 1000
        },
        "collapsed": true,
        "id": "MxKvfgdQBI9S",
        "outputId": "54423abe-bc54-4dd4-801c-87181874c46f"
      },
      "outputs": [],
      "source": [
        "plot_model(model, show_shapes=True, show_layer_names=True, show_layer_activations=True, show_dtype=True, show_trainable=True)"
      ]
    },
    {
      "cell_type": "code",
      "execution_count": 23,
      "metadata": {
        "id": "Lq8Bojlp_bNT"
      },
      "outputs": [],
      "source": [
        "model.compile(optimizer='adam',\n",
        "              loss='sparse_categorical_crossentropy',\n",
        "              metrics=['accuracy'])"
      ]
    },
    {
      "cell_type": "code",
      "execution_count": 24,
      "metadata": {
        "colab": {
          "base_uri": "https://localhost:8080/"
        },
        "id": "A-FdZ4WYB1SC",
        "outputId": "5136b2bf-f30e-4b36-e780-1c61223b70d8"
      },
      "outputs": [
        {
          "name": "stdout",
          "output_type": "stream",
          "text": [
            "Epoch 1/5\n",
            "1563/1563 [==============================] - 228s 143ms/step - loss: 1.2972 - accuracy: 0.5526\n",
            "Epoch 2/5\n",
            "1563/1563 [==============================] - 227s 145ms/step - loss: 1.0742 - accuracy: 0.6213\n",
            "Epoch 3/5\n",
            "1563/1563 [==============================] - 221s 141ms/step - loss: 1.0010 - accuracy: 0.6446\n",
            "Epoch 4/5\n",
            "1563/1563 [==============================] - 228s 146ms/step - loss: 0.9442 - accuracy: 0.6651\n",
            "Epoch 5/5\n",
            "1563/1563 [==============================] - 219s 140ms/step - loss: 0.8923 - accuracy: 0.6857\n"
          ]
        },
        {
          "data": {
            "text/plain": [
              "<keras.src.callbacks.History at 0x7c39c49c3f40>"
            ]
          },
          "execution_count": 24,
          "metadata": {},
          "output_type": "execute_result"
        }
      ],
      "source": [
        "model.fit(x_train, y_train, epochs=5)"
      ]
    },
    {
      "cell_type": "code",
      "execution_count": 25,
      "metadata": {
        "id": "rX486OFDB-RS"
      },
      "outputs": [],
      "source": [
        "resnet50.trainable = True"
      ]
    },
    {
      "cell_type": "code",
      "execution_count": 26,
      "metadata": {
        "id": "Q_K2izxeE0A_"
      },
      "outputs": [],
      "source": [
        "model = Model(inputs=resnet50.inputs, outputs=fc2)"
      ]
    },
    {
      "cell_type": "code",
      "execution_count": 27,
      "metadata": {
        "id": "eIaLdKEUE4cG"
      },
      "outputs": [],
      "source": [
        "model.compile(optimizer='adam',\n",
        "              loss='sparse_categorical_crossentropy',\n",
        "              metrics=['accuracy'])"
      ]
    },
    {
      "cell_type": "code",
      "execution_count": null,
      "metadata": {
        "colab": {
          "base_uri": "https://localhost:8080/",
          "height": 356
        },
        "id": "RXEwtRcuE52J",
        "outputId": "e1bb165d-6bd8-4787-c063-4d27dba5a18b"
      },
      "outputs": [],
      "source": [
        "model.fit(x_train, y_train, epochs=3)"
      ]
    },
    {
      "cell_type": "code",
      "execution_count": null,
      "metadata": {
        "id": "mUzrDh7yFFsP"
      },
      "outputs": [],
      "source": []
    }
  ],
  "metadata": {
    "accelerator": "GPU",
    "colab": {
      "gpuType": "T4",
      "provenance": []
    },
    "kernelspec": {
      "display_name": "Python 3",
      "name": "python3"
    },
    "language_info": {
      "name": "python"
    }
  },
  "nbformat": 4,
  "nbformat_minor": 0
}
