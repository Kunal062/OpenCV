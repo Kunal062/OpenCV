{
 "cells": [
  {
   "cell_type": "code",
   "execution_count": 6,
   "metadata": {},
   "outputs": [
    {
     "name": "stdout",
     "output_type": "stream",
     "text": [
      "Requirement already satisfied: opencv-python in c:\\users\\kunal\\appdata\\roaming\\python\\python310\\site-packages (4.6.0.66)\n",
      "Requirement already satisfied: pillow in c:\\users\\kunal\\appdata\\roaming\\python\\python310\\site-packages (9.2.0)\n",
      "Collecting scikit-image\n",
      "  Obtaining dependency information for scikit-image from https://files.pythonhosted.org/packages/99/89/3fcd68d034db5d29c974e964d03deec9d0fbf9410ff0a0b95efff70947f6/scikit_image-0.24.0-cp310-cp310-win_amd64.whl.metadata\n",
      "  Downloading scikit_image-0.24.0-cp310-cp310-win_amd64.whl.metadata (14 kB)\n",
      "Requirement already satisfied: numpy>=1.21.2 in c:\\users\\kunal\\appdata\\roaming\\python\\python310\\site-packages (from opencv-python) (1.26.4)\n",
      "Requirement already satisfied: scipy>=1.9 in c:\\users\\kunal\\appdata\\roaming\\python\\python310\\site-packages (from scikit-image) (1.9.1)\n",
      "Requirement already satisfied: networkx>=2.8 in c:\\users\\kunal\\appdata\\roaming\\python\\python310\\site-packages (from scikit-image) (3.3)\n",
      "Collecting imageio>=2.33 (from scikit-image)\n",
      "  Obtaining dependency information for imageio>=2.33 from https://files.pythonhosted.org/packages/a3/b6/39c7dad203d9984225f47e0aa39ac3ba3a47c77a02d0ef2a7be691855a06/imageio-2.34.1-py3-none-any.whl.metadata\n",
      "  Downloading imageio-2.34.1-py3-none-any.whl.metadata (4.9 kB)\n",
      "Collecting tifffile>=2022.8.12 (from scikit-image)\n",
      "  Obtaining dependency information for tifffile>=2022.8.12 from https://files.pythonhosted.org/packages/ff/6e/b4a605fab7b8a466e33c6e41ad53ccd7982fb6c34dd1e4caa68300bf2765/tifffile-2024.6.18-py3-none-any.whl.metadata\n",
      "  Downloading tifffile-2024.6.18-py3-none-any.whl.metadata (31 kB)\n",
      "Requirement already satisfied: packaging>=21 in c:\\users\\kunal\\appdata\\roaming\\python\\python310\\site-packages (from scikit-image) (21.3)\n",
      "Collecting lazy-loader>=0.4 (from scikit-image)\n",
      "  Obtaining dependency information for lazy-loader>=0.4 from https://files.pythonhosted.org/packages/83/60/d497a310bde3f01cb805196ac61b7ad6dc5dcf8dce66634dc34364b20b4f/lazy_loader-0.4-py3-none-any.whl.metadata\n",
      "  Downloading lazy_loader-0.4-py3-none-any.whl.metadata (7.6 kB)\n",
      "Requirement already satisfied: pyparsing!=3.0.5,>=2.0.2 in c:\\users\\kunal\\appdata\\roaming\\python\\python310\\site-packages (from packaging>=21->scikit-image) (3.0.9)\n",
      "Collecting numpy>=1.21.2 (from opencv-python)\n",
      "  Obtaining dependency information for numpy>=1.21.2 from https://files.pythonhosted.org/packages/22/55/3d5a7c1142e0d9329ad27cece17933b0e2ab4e54ddc5c1861fbfeb3f7693/numpy-1.24.4-cp310-cp310-win_amd64.whl.metadata\n",
      "  Downloading numpy-1.24.4-cp310-cp310-win_amd64.whl.metadata (5.6 kB)\n",
      "Downloading scikit_image-0.24.0-cp310-cp310-win_amd64.whl (12.9 MB)\n",
      "   ---------------------------------------- 12.9/12.9 MB 649.1 kB/s eta 0:00:00\n",
      "Downloading imageio-2.34.1-py3-none-any.whl (313 kB)\n",
      "   -------------------------------------- 313.5/313.5 kB 881.5 kB/s eta 0:00:00\n",
      "Downloading lazy_loader-0.4-py3-none-any.whl (12 kB)\n",
      "Downloading numpy-1.24.4-cp310-cp310-win_amd64.whl (14.8 MB)\n",
      "   ---------------------------------------- 14.8/14.8 MB 975.1 kB/s eta 0:00:00\n",
      "Downloading tifffile-2024.6.18-py3-none-any.whl (226 kB)\n",
      "   ---------------------------------------- 226.0/226.0 kB 2.0 MB/s eta 0:00:00\n",
      "Installing collected packages: numpy, tifffile, lazy-loader, imageio, scikit-image\n",
      "  Attempting uninstall: numpy\n",
      "    Found existing installation: numpy 1.26.4\n",
      "    Uninstalling numpy-1.26.4:\n",
      "      Successfully uninstalled numpy-1.26.4\n",
      "  Rolling back uninstall of numpy\n",
      "  Moving to c:\\users\\kunal\\appdata\\roaming\\python\\python310\\scripts\\f2py.exe\n",
      "   from C:\\Users\\kunal\\AppData\\Local\\Temp\\pip-uninstall-gd_ca22z\\f2py.exe\n",
      "  Moving to c:\\users\\kunal\\appdata\\roaming\\python\\python310\\site-packages\\numpy-1.26.4-cp310-cp310-win_amd64.whl\n",
      "   from C:\\Users\\kunal\\AppData\\Local\\Temp\\pip-uninstall-5u7tizwx\\numpy-1.26.4-cp310-cp310-win_amd64.whl\n",
      "  Moving to c:\\users\\kunal\\appdata\\roaming\\python\\python310\\site-packages\\numpy-1.26.4.dist-info\\\n",
      "   from C:\\Users\\kunal\\AppData\\Roaming\\Python\\Python310\\site-packages\\~umpy-1.26.4.dist-info\n",
      "  Moving to c:\\users\\kunal\\appdata\\roaming\\python\\python310\\site-packages\\numpy.libs\\\n",
      "   from C:\\Users\\kunal\\AppData\\Roaming\\Python\\Python310\\site-packages\\~umpy.libs\n",
      "  Moving to c:\\users\\kunal\\appdata\\roaming\\python\\python310\\site-packages\\numpy\\\n",
      "   from C:\\Users\\kunal\\AppData\\Roaming\\Python\\Python310\\site-packages\\~umpy\n"
     ]
    },
    {
     "name": "stderr",
     "output_type": "stream",
     "text": [
      "ERROR: Could not install packages due to an OSError: [Errno 2] No such file or directory: 'c:\\\\Users\\\\kunal\\\\Desktop\\\\ml_project1\\\\env\\\\Scripts\\\\f2py.exe'\n",
      "\n"
     ]
    },
    {
     "name": "stdout",
     "output_type": "stream",
     "text": [
      "Requirement already satisfied: opencv-python in c:\\users\\kunal\\appdata\\roaming\\python\\python310\\site-packages (4.6.0.66)"
     ]
    },
    {
     "name": "stderr",
     "output_type": "stream",
     "text": [
      "    WARNING: No metadata found in c:\\users\\kunal\\appdata\\roaming\\python\\python310\\site-packages\n",
      "ERROR: pip's dependency resolver does not currently take into account all the packages that are installed. This behaviour is the source of the following dependency conflicts.\n",
      "mediapipe 0.8.11 requires protobuf<4,>=3.11, but you have protobuf 4.25.3 which is incompatible.\n",
      "WARNING: There was an error checking the latest version of pip.\n"
     ]
    },
    {
     "name": "stdout",
     "output_type": "stream",
     "text": [
      "\n",
      "Requirement already satisfied: pillow in c:\\users\\kunal\\appdata\\roaming\\python\\python310\\site-packages (9.2.0)\n",
      "Collecting scikit-image\n",
      "  Obtaining dependency information for scikit-image from https://files.pythonhosted.org/packages/99/89/3fcd68d034db5d29c974e964d03deec9d0fbf9410ff0a0b95efff70947f6/scikit_image-0.24.0-cp310-cp310-win_amd64.whl.metadata\n",
      "  Using cached scikit_image-0.24.0-cp310-cp310-win_amd64.whl.metadata (14 kB)\n",
      "Requirement already satisfied: numpy>=1.21.2 in c:\\users\\kunal\\appdata\\roaming\\python\\python310\\site-packages (from opencv-python) (1.26.4)\n",
      "Requirement already satisfied: scipy>=1.9 in c:\\users\\kunal\\appdata\\roaming\\python\\python310\\site-packages (from scikit-image) (1.9.1)\n",
      "Requirement already satisfied: networkx>=2.8 in c:\\users\\kunal\\appdata\\roaming\\python\\python310\\site-packages (from scikit-image) (3.3)\n",
      "Collecting imageio>=2.33 (from scikit-image)\n",
      "  Obtaining dependency information for imageio>=2.33 from https://files.pythonhosted.org/packages/a3/b6/39c7dad203d9984225f47e0aa39ac3ba3a47c77a02d0ef2a7be691855a06/imageio-2.34.1-py3-none-any.whl.metadata\n",
      "  Using cached imageio-2.34.1-py3-none-any.whl.metadata (4.9 kB)\n",
      "Collecting tifffile>=2022.8.12 (from scikit-image)\n",
      "  Obtaining dependency information for tifffile>=2022.8.12 from https://files.pythonhosted.org/packages/ff/6e/b4a605fab7b8a466e33c6e41ad53ccd7982fb6c34dd1e4caa68300bf2765/tifffile-2024.6.18-py3-none-any.whl.metadata\n",
      "  Using cached tifffile-2024.6.18-py3-none-any.whl.metadata (31 kB)\n",
      "Requirement already satisfied: packaging>=21 in c:\\users\\kunal\\appdata\\roaming\\python\\python310\\site-packages (from scikit-image) (21.3)\n",
      "Collecting lazy-loader>=0.4 (from scikit-image)\n",
      "  Obtaining dependency information for lazy-loader>=0.4 from https://files.pythonhosted.org/packages/83/60/d497a310bde3f01cb805196ac61b7ad6dc5dcf8dce66634dc34364b20b4f/lazy_loader-0.4-py3-none-any.whl.metadata\n",
      "  Using cached lazy_loader-0.4-py3-none-any.whl.metadata (7.6 kB)\n",
      "Requirement already satisfied: pyparsing!=3.0.5,>=2.0.2 in c:\\users\\kunal\\appdata\\roaming\\python\\python310\\site-packages (from packaging>=21->scikit-image) (3.0.9)\n",
      "Collecting numpy>=1.21.2 (from opencv-python)\n",
      "  Obtaining dependency information for numpy>=1.21.2 from https://files.pythonhosted.org/packages/22/55/3d5a7c1142e0d9329ad27cece17933b0e2ab4e54ddc5c1861fbfeb3f7693/numpy-1.24.4-cp310-cp310-win_amd64.whl.metadata\n",
      "  Using cached numpy-1.24.4-cp310-cp310-win_amd64.whl.metadata (5.6 kB)\n",
      "Using cached scikit_image-0.24.0-cp310-cp310-win_amd64.whl (12.9 MB)\n",
      "Using cached imageio-2.34.1-py3-none-any.whl (313 kB)\n",
      "Using cached lazy_loader-0.4-py3-none-any.whl (12 kB)\n",
      "Using cached numpy-1.24.4-cp310-cp310-win_amd64.whl (14.8 MB)\n",
      "Using cached tifffile-2024.6.18-py3-none-any.whl (226 kB)\n",
      "Installing collected packages: numpy, tifffile, lazy-loader, imageio, scikit-image\n",
      "  Attempting uninstall: numpy\n",
      "    Found existing installation: numpy 1.26.4\n",
      "    Can't uninstall 'numpy'. No files were found to uninstall.\n",
      "Successfully installed imageio-2.34.1 lazy-loader-0.4 numpy-1.24.4 scikit-image-0.24.0 tifffile-2024.6.18\n"
     ]
    }
   ],
   "source": [
    "!pip install opencv-python pillow scikit-image"
   ]
  },
  {
   "cell_type": "markdown",
   "metadata": {},
   "source": [
    "## Q1. Load the image and find the following properties:\n",
    "1. Size and shape of the image\n",
    "2. The color space model\n",
    "3. Display using cv and matplotlib"
   ]
  },
  {
   "cell_type": "code",
   "execution_count": 7,
   "metadata": {},
   "outputs": [],
   "source": [
    "import cv2"
   ]
  },
  {
   "cell_type": "code",
   "execution_count": 8,
   "metadata": {},
   "outputs": [],
   "source": [
    "img = cv2.imread('D:\\OpenCV\\Day 1\\images\\sachin.jpg')"
   ]
  },
  {
   "cell_type": "code",
   "execution_count": 10,
   "metadata": {},
   "outputs": [
    {
     "ename": "AttributeError",
     "evalue": "'NoneType' object has no attribute 'shape'",
     "output_type": "error",
     "traceback": [
      "\u001b[1;31m---------------------------------------------------------------------------\u001b[0m",
      "\u001b[1;31mAttributeError\u001b[0m                            Traceback (most recent call last)",
      "Cell \u001b[1;32mIn [10], line 1\u001b[0m\n\u001b[1;32m----> 1\u001b[0m \u001b[43mimg\u001b[49m\u001b[38;5;241;43m.\u001b[39;49m\u001b[43mshape\u001b[49m\n",
      "\u001b[1;31mAttributeError\u001b[0m: 'NoneType' object has no attribute 'shape'"
     ]
    }
   ],
   "source": [
    "img.shape"
   ]
  },
  {
   "cell_type": "code",
   "execution_count": 9,
   "metadata": {},
   "outputs": [
    {
     "ename": "error",
     "evalue": "OpenCV(4.6.0) D:\\a\\opencv-python\\opencv-python\\opencv\\modules\\highgui\\src\\window.cpp:967: error: (-215:Assertion failed) size.width>0 && size.height>0 in function 'cv::imshow'\n",
     "output_type": "error",
     "traceback": [
      "\u001b[1;31m---------------------------------------------------------------------------\u001b[0m",
      "\u001b[1;31merror\u001b[0m                                     Traceback (most recent call last)",
      "Cell \u001b[1;32mIn [9], line 1\u001b[0m\n\u001b[1;32m----> 1\u001b[0m \u001b[43mcv2\u001b[49m\u001b[38;5;241;43m.\u001b[39;49m\u001b[43mimshow\u001b[49m\u001b[43m(\u001b[49m\u001b[38;5;124;43m\"\u001b[39;49m\u001b[38;5;124;43mimage\u001b[39;49m\u001b[38;5;124;43m\"\u001b[39;49m\u001b[43m,\u001b[49m\u001b[43m \u001b[49m\u001b[43mimg\u001b[49m\u001b[43m)\u001b[49m\n\u001b[0;32m      2\u001b[0m cv2\u001b[38;5;241m.\u001b[39mwaitKey(\u001b[38;5;241m0\u001b[39m)\n\u001b[0;32m      3\u001b[0m cv2\u001b[38;5;241m.\u001b[39mdestroyAllWindows()\n",
      "\u001b[1;31merror\u001b[0m: OpenCV(4.6.0) D:\\a\\opencv-python\\opencv-python\\opencv\\modules\\highgui\\src\\window.cpp:967: error: (-215:Assertion failed) size.width>0 && size.height>0 in function 'cv::imshow'\n"
     ]
    }
   ],
   "source": [
    "cv2.imshow(\"image\", img)\n",
    "cv2.waitKey(0)\n",
    "cv2.destroyAllWindows()"
   ]
  },
  {
   "cell_type": "code",
   "execution_count": null,
   "metadata": {},
   "outputs": [],
   "source": []
  }
 ],
 "metadata": {
  "kernelspec": {
   "display_name": "Python 3",
   "language": "python",
   "name": "python3"
  },
  "language_info": {
   "codemirror_mode": {
    "name": "ipython",
    "version": 3
   },
   "file_extension": ".py",
   "mimetype": "text/x-python",
   "name": "python",
   "nbconvert_exporter": "python",
   "pygments_lexer": "ipython3",
   "version": "3.10.13"
  }
 },
 "nbformat": 4,
 "nbformat_minor": 2
}
